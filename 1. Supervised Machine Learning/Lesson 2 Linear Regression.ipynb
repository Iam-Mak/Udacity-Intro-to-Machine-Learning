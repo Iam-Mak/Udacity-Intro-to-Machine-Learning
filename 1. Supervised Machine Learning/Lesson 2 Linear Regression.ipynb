{
 "cells": [
  {
   "cell_type": "markdown",
   "id": "1b43a375",
   "metadata": {},
   "source": [
    "<h1><center> <b> Linear Regression </b></center></h1>\n",
    "<img src=\"asset/Fitting A Line.png\" width=\"800\" height=\"400\" alt=\"Fitting A Line\" />"
   ]
  },
  {
   "cell_type": "markdown",
   "id": "6d8ac621",
   "metadata": {},
   "source": [
    "## Absolute Trick\n",
    "\n",
    "The absolute trick works by starting with a point and a line.\n",
    "- A point with coordinates $(p,q)$\n",
    "- A line represented by $y = w_1x + w_2$.\n",
    "\n",
    "A line represented by $(p,q)$the absolute trick has two steps:\n",
    "- add to the y-intercept so that the line moves up\n",
    "- add to the slope to make the line rotate in the direction of the point\n",
    "\n",
    "The first possible step is to add 1 to the y-intercept and $p$ to the slope, giving us the equation $y = (w_1+p)x+(w_2+1)$\n",
    "\n",
    "This ends up being too large of a step, and we have over-corrected our line. Instead, we will utilize a small number called a **learning rate**, referred to as alpha $(α)$, to take smaller steps.\n",
    "\n",
    "We will add $(1α)$ to the y-intercept, and $(pα)$ to the slope. This gives us the equation\n",
    "$y = (w_1+pα)x+(w_2+α)$\n",
    "\n",
    "This works when the point $(p,q)$ is above the line, but when the point is underneath the line we need to subtract in order to move the line appropriately.\n",
    "$y = (w_1-pα)x+(w_2-α)$\n",
    "\n",
    "<img src=\"asset/Absolute Track.png\" width=\"800\" height=\"400\" alt=\"Absolute Trick\" />"
   ]
  },
  {
   "cell_type": "markdown",
   "id": "12e56f85",
   "metadata": {},
   "source": [
    "## Square Trick\n",
    "\n",
    "Let's look at this vertical distance between the point and the line. The point over the line has coordinates $(p,q)$ and the corresponding point on the line is $(p,q′)$.\n",
    "\n",
    "The distance between the point and the line is $(q−q′)$.\n",
    "\n",
    "We take this distance and multiply it into what we add to both the y-intercept and to the slope.\n",
    "- Update the y-intercept by adding $α(q−q′)$\n",
    "- Update the slope by adding $pα(q−q′)$.\n",
    "\n",
    "This gives us the equation $y = (w_1-p(q−q′)α)x+(w_2-(q−q′)α)$\n",
    "\n",
    "This trick automatically takes care of points that are under the line and we don't need two rules as we had on the absolute trick. We just have the same rule for both.\n",
    "<img src=\"asset/Square Track.png\" width=\"800\" height=\"400\" alt=\"Square Track\" />"
   ]
  },
  {
   "cell_type": "markdown",
   "id": "a7d7dab2",
   "metadata": {},
   "source": [
    "## Gradient Descent\n",
    "Consider the plot in two dimensions allowing a reality that the plot will be in higher dimensions. We have our weights on the x-axis and our error on the y-axis. And we have an error function. The way to descend is to actually take the derivative or gradient of the error function with respect to the weights. This gradient is going to point to a direction where the function increases the most. Therefore, the negative of this gradient is going to point down in the direction where the function decreases the most. So what we do is we take a step in the direction of the negative of that gradient, this means we are taking our weights wi and changing them to wi minus the derivative of the error with respect to wi.\n",
    "\n",
    "<img src=\"asset/Gradient Decent.png\" width=\"800\" height=\"400\" alt=\"Gradient Decent\" />"
   ]
  },
  {
   "cell_type": "markdown",
   "id": "956a57b6",
   "metadata": {},
   "source": [
    "## Error Functions\n",
    "\n",
    "### Mean Absolute Error\n",
    "Assume we have a point with coordinates $(x,y)$ and the line is called $\\hat{Y}$ since it is our prediction. The corresponding point on the line is $(x,\\hat{y})$, and the vertical distance from the point to the line is $(y− \\hat{y})$. This is the error.\n",
    "Our total error is going to be the sum of all these distances for all the points in our dataset.\n",
    "\n",
    "$Error = \\sum_{i=1}^{m} |y_i - \\hat{y}_i|$ \n",
    "\n",
    "In some cases, we'll use the average or the mean absolute error, which is the sum of all the errors divided by m, the number of points in our dataset.\n",
    "\n",
    "$Error = \\frac{1}{m} \\sum_{i=1}^{m} \\left| y_i - \\hat{y}_i \\right|$\n",
    "\n",
    "Using the sum or the average won't change our algorithms, since that would only scale our error by a constant, namely m.\n",
    "\n",
    "Notice that we have an absolute value around $(y− \\hat{y})$, the reason is that if the point is on top of the line, the distance is $(y− \\hat{y})$ , but if it's under the line then it's $(y− \\hat{y})$ . We want the error to always be positive, otherwise negative errors will cancel with positive errors.\n",
    "\n",
    "\n",
    "<img src=\"asset/Mean Absolute Error.png\" width=\"800\" height=\"400\" alt=\"Mean Absolute Error\" />"
   ]
  },
  {
   "cell_type": "markdown",
   "id": "2fb3875c",
   "metadata": {},
   "source": [
    "### Mean Square Error\n",
    "\n",
    "Assume we still have our point and our prediction, but instead of taking the distance between the point and the prediction, we're going to draw a square with this segment as its side. This area is  $(y− \\hat{y})^2$.\n",
    "\n",
    "Notice that this is always non-negative, so we don't need to worry about absolute values.\n",
    "\n",
    "Our mean squared error is going to be the average of all these series of squares.\n",
    "\n",
    "$Error = \\frac{1}{2m} \\sum_{i=1}^{m} (y_i - \\hat{y}_i)^2$\n",
    "\n",
    "If the point is over the line or underneath the line the square is always going to be a non-negative number because the square of a real number is always going to be non-negative.\n",
    "\n",
    "<img src=\"asset/Mean Squared Error.png\" width=\"800\" height=\"400\" alt=\"Mean Squared Error\" />"
   ]
  },
  {
   "cell_type": "markdown",
   "id": "65a0e731",
   "metadata": {},
   "source": [
    "## Minimizing Error Functions\n",
    "\n",
    "### Mean squared error\n",
    "Let's start with the mean squared error. Assume we have a point with coordinates $(x,y)$, and a line with the equation $y = w_1x + w_2$.\n",
    "So $\\hat{y}$ is our prediction, and it predicts the y coordinate of the point that matches the x coordinate of the point $(x,y)$, the point \n",
    "$(x,\\hat{y})$. The error for this point is  $ \\frac{1}{2}(y - \\hat{y})^2 $, and the mean squared error for this set of points is the average of all these errors. Since the average is a linear function, whatever we do here applies to the entire error.\n",
    "\n",
    "We know that the gradient descent step uses these two derivatives, namely the derivative with respect to the slope $w_1$ and the derivative with respect to the y-intercept $w_2$. If we calculate the derivatives, we get $ \\frac{\\partial Error}{\\partial w_1} = -(y - \\hat{y})x $ for the one respect to the slope and $ \\frac{\\partial Error}{\\partial w_2} = -(y - \\hat{y}) $ for the one with respect to the y-intercept $w_2$.\n",
    "\n",
    "Notice that the length of this red segment is precisely $ (y - \\hat{y}) $ and the length of this green segment is precisely x.\n",
    " \n",
    "### Development of the derivative of the error function\n",
    "Notice that we've defined the squared error to be \n",
    "\n",
    "$Error =  \\frac{1}{2}(y - \\hat{y})^2 $\n",
    "\n",
    "Also, we've defined the prediction to be $y = w_1x + w_2$\n",
    "\n",
    "So to calculate the derivative of the Error with respect to $w_1$, we simply use the chain rule:\n",
    "\n",
    "$ \\frac{\\partial Error}{\\partial w_1} = \\frac{\\partial Error}{\\partial \\hat{y}} \\cdot \\frac{\\partial \\hat{y}}{\\partial w_1} $\n",
    "\n",
    "The first factor of the right-hand side is the derivative of the Error with respect to the prediction $ \\hat{y} $, which is $ (y - \\hat{y}) $. \n",
    "\n",
    "The second factor is the derivative of the prediction with respect to $w_1$, which is simply $ x $.\n",
    "Therefore, the derivative is\n",
    "\n",
    "$ \\frac{\\partial Error}{\\partial w_1} = -(y - \\hat{y}) \\cdot x $"
   ]
  },
  {
   "cell_type": "markdown",
   "id": "73f956d9",
   "metadata": {},
   "source": [
    "### Batch vs Stochastic Gradient Descent\n",
    "At this point, it seems that we've seen two ways of doing linear regression.\n",
    "\n",
    "- By applying the squared (or absolute) trick at every point in our data one by one, and repeating this process many times.\n",
    "- By applying the squared (or absolute) trick at every point in our data all at the same time, and repeating this process many times. <br>\n",
    "\n",
    "More specifically, the squared (or absolute) trick, when applied to a point, gives us some values to add to the weights of the model. We can add these values, update our weights, and then apply the squared (or absolute) trick on the next point. Or we can calculate these values for all the points, add them, and then update the weights with the sum of these values.\n",
    "\n",
    "The latter is called *batch gradient descent*. The former is called *stochastic gradient descent*.\n",
    "\n",
    "<img src=\"asset/batch-stochastic.png\" width=\"1000\" height=\"400\" alt=\"batch-stochastic\" />\n",
    "\n",
    "The question is, which one is used in practice?\n",
    "\n",
    "Actually, in most cases, neither. Think about this: If your data is huge, both are a bit slow, computationally. The best way to do linear regression, is to split your data into many small batches. Each batch, with roughly the same number of points. Then, use each batch to update your weights. This is still called mini-batch gradient descent.\n",
    "\n",
    "<img src=\"asset/minibatch.png\" width=\"600\" height=\"350\" alt=\"minibatch\" />"
   ]
  },
  {
   "cell_type": "markdown",
   "id": "2515a03d",
   "metadata": {},
   "source": [
    "## Lesson 2.16 Mini-Batch Gradient Descent "
   ]
  },
  {
   "cell_type": "code",
   "execution_count": 1,
   "id": "57513305",
   "metadata": {},
   "outputs": [],
   "source": [
    "import numpy as np\n",
    "import pandas as pd\n",
    "\n",
    "import matplotlib.pyplot as plt\n",
    "# Setting a random seed, feel free to change it and see different solutions.\n",
    "np.random.seed(50)"
   ]
  },
  {
   "cell_type": "code",
   "execution_count": 2,
   "id": "6b93e4e5",
   "metadata": {
    "scrolled": true
   },
   "outputs": [
    {
     "data": {
      "image/png": "[encoded data removed]",
      "text/plain": [
       "<Figure size 720x360 with 1 Axes>"
      ]
     },
     "metadata": {
      "needs_background": "light"
     },
     "output_type": "display_data"
    }
   ],
   "source": [
    "data = np.loadtxt('datasets/batch_gradient.csv', delimiter = ',')\n",
    "\n",
    "df = pd.DataFrame(data)\n",
    "\n",
    "fig, ax = plt.subplots(figsize=(10,5 ))\n",
    "ax.scatter(df[0], df[1])\n",
    "plt.show()"
   ]
  },
  {
   "cell_type": "code",
   "execution_count": 3,
   "id": "05459eb8",
   "metadata": {},
   "outputs": [],
   "source": [
    "# step for linear regression, following a squared error rule. See the docstring for parameters and returned variables.\n",
    "\n",
    "def MSEStep(X, y, W, b, learn_rate = 0.005):\n",
    "    \"\"\"\n",
    "    This function implements the gradient descent step for squared error as a\n",
    "    performance metric.\n",
    "    \n",
    "    Parameters\n",
    "    X : array of predictor features\n",
    "    y : array of outcome values\n",
    "    W : predictor feature coefficients\n",
    "    b : regression function intercept\n",
    "    learn_rate : learning rate\n",
    "\n",
    "    Returns\n",
    "    W_new : predictor feature coefficients following gradient descent step\n",
    "    b_new : intercept following gradient descent step\n",
    "    \"\"\"\n",
    "    \n",
    "     # compute errors\n",
    "    y_pred = np.matmul(X, W) + b\n",
    "    error = y - y_pred\n",
    "    \n",
    "    # compute steps\n",
    "    W_new = W + learn_rate * np.matmul(error, X)\n",
    "    b_new = b + learn_rate * error.sum()\n",
    "    return W_new, b_new"
   ]
  },
  {
   "cell_type": "code",
   "execution_count": 4,
   "id": "000af050",
   "metadata": {},
   "outputs": [],
   "source": [
    "# The gradient descent step will be performed multiple times on the provided dataset, and the returned list of\n",
    "# regression coefficients will be plotted.\n",
    "\n",
    "\n",
    "def miniBatchGD(X, y, batch_size = 20, learn_rate = 0.005, num_iter = 25):\n",
    "    \n",
    "    \"\"\"\n",
    "    This function performs mini-batch gradient descent on a given dataset.\n",
    "\n",
    "    Parameters\n",
    "    X : array of predictor features\n",
    "    y : array of outcome values\n",
    "    batch_size : how many data points will be sampled for each iteration\n",
    "    learn_rate : learning rate\n",
    "    num_iter : number of batches used\n",
    "\n",
    "    Returns\n",
    "    regression_coef : array of slopes and intercepts generated by gradient\n",
    "      descent procedure\n",
    "    \"\"\"\n",
    "    \n",
    "    n_points = X.shape[0]\n",
    "    W = np.zeros(X.shape[1]) # coefficients\n",
    "    b = 0 # intercept\n",
    "    \n",
    "    # run iterations\n",
    "    regression_coef = [np.hstack((W,b))]\n",
    "    for _ in range(num_iter):\n",
    "        batch = np.random.choice(range(n_points), batch_size)\n",
    "        X_batch = X[batch,:]\n",
    "        y_batch = y[batch]\n",
    "        \n",
    "        W, b = MSEStep(X_batch, y_batch, W, b, learn_rate)\n",
    "        regression_coef.append(np.hstack((W,b)))\n",
    "    \n",
    "    return regression_coef"
   ]
  },
  {
   "cell_type": "code",
   "execution_count": 5,
   "id": "d30a1aa2",
   "metadata": {},
   "outputs": [
    {
     "data": {
      "image/png": "[encoded data removed]",
      "text/plain": [
       "<Figure size 1080x576 with 1 Axes>"
      ]
     },
     "metadata": {
      "needs_background": "light"
     },
     "output_type": "display_data"
    }
   ],
   "source": [
    "if __name__ == \"__main__\":\n",
    "    \n",
    "    # perform gradient descent\n",
    "    X = data[:,:-1]\n",
    "    y = data[:,-1]\n",
    "    regression_coef = miniBatchGD(X, y)\n",
    "    \n",
    "    \n",
    "    plt.figure(figsize=(15,8))\n",
    "    \n",
    "    X_min = X.min()\n",
    "    X_max = X.max()\n",
    "    \n",
    "    counter = len(regression_coef)\n",
    "    for W, b in regression_coef:\n",
    "        counter -= 1\n",
    "        color = [1 - 0.92 ** counter for _ in range(3)]\n",
    "        plt.plot([X_min, X_max],[X_min * W + b, X_max * W + b], color = color)\n",
    "    plt.scatter(X, y, zorder = 3)\n",
    "    plt.show()"
   ]
  },
  {
   "cell_type": "markdown",
   "id": "5d183b2b",
   "metadata": {},
   "source": [
    "## Lesson 2.18 Linear Regression in scikit-learn\n",
    "\n",
    "- `from sklearn.linear_model import LinearRegression`\n",
    "- `model = LinearRegression()`\n",
    "- `model.fit(x_values, y_values)`\n",
    "\n",
    "\n",
    "### Linear Regression Quiz\n",
    "\n",
    "The data file can be found under the `\"datasets/bmi_and_life_expectancy.csv\"` tab in the quiz below. It includes three columns, containing the following data:\n",
    "\n",
    "- Country – The country the person was born in.\n",
    "- Life expectancy – The average life expectancy at birth for a person in that country.\n",
    "- BMI – The mean BMI of males in that country."
   ]
  },
  {
   "cell_type": "code",
   "execution_count": 6,
   "id": "7cd853f0",
   "metadata": {},
   "outputs": [],
   "source": [
    "import pandas as pd\n",
    "\n",
    "from sklearn.linear_model import LinearRegression"
   ]
  },
  {
   "cell_type": "code",
   "execution_count": 7,
   "id": "7ce2fba0",
   "metadata": {},
   "outputs": [
    {
     "data": {
      "text/html": [
       "<div>\n",
       "<style scoped>\n",
       "    .dataframe tbody tr th:only-of-type {\n",
       "        vertical-align: middle;\n",
       "    }\n",
       "\n",
       "    .dataframe tbody tr th {\n",
       "        vertical-align: top;\n",
       "    }\n",
       "\n",
       "    .dataframe thead th {\n",
       "        text-align: right;\n",
       "    }\n",
       "</style>\n",
       "<table border=\"1\" class=\"dataframe\">\n",
       "  <thead>\n",
       "    <tr style=\"text-align: right;\">\n",
       "      <th></th>\n",
       "      <th>Country</th>\n",
       "      <th>Life expectancy</th>\n",
       "      <th>BMI</th>\n",
       "    </tr>\n",
       "  </thead>\n",
       "  <tbody>\n",
       "    <tr>\n",
       "      <th>0</th>\n",
       "      <td>Afghanistan</td>\n",
       "      <td>52.8</td>\n",
       "      <td>20.62058</td>\n",
       "    </tr>\n",
       "    <tr>\n",
       "      <th>1</th>\n",
       "      <td>Albania</td>\n",
       "      <td>76.8</td>\n",
       "      <td>26.44657</td>\n",
       "    </tr>\n",
       "    <tr>\n",
       "      <th>2</th>\n",
       "      <td>Algeria</td>\n",
       "      <td>75.5</td>\n",
       "      <td>24.59620</td>\n",
       "    </tr>\n",
       "    <tr>\n",
       "      <th>3</th>\n",
       "      <td>Andorra</td>\n",
       "      <td>84.6</td>\n",
       "      <td>27.63048</td>\n",
       "    </tr>\n",
       "    <tr>\n",
       "      <th>4</th>\n",
       "      <td>Angola</td>\n",
       "      <td>56.7</td>\n",
       "      <td>22.25083</td>\n",
       "    </tr>\n",
       "  </tbody>\n",
       "</table>\n",
       "</div>"
      ],
      "text/plain": [
       "       Country  Life expectancy       BMI\n",
       "0  Afghanistan             52.8  20.62058\n",
       "1      Albania             76.8  26.44657\n",
       "2      Algeria             75.5  24.59620\n",
       "3      Andorra             84.6  27.63048\n",
       "4       Angola             56.7  22.25083"
      ]
     },
     "execution_count": 7,
     "metadata": {},
     "output_type": "execute_result"
    }
   ],
   "source": [
    "# Assign the dataframe to this variable.\n",
    "bmi_life_data = pd.read_csv(\"datasets/bmi_and_life_expectancy.csv\")\n",
    "\n",
    "X = bmi_life_data[['BMI']]\n",
    "y = bmi_life_data[['Life expectancy']]\n",
    "\n",
    "bmi_life_data.head()"
   ]
  },
  {
   "cell_type": "code",
   "execution_count": 8,
   "id": "0bea4fe4",
   "metadata": {},
   "outputs": [
    {
     "data": {
      "text/html": [
       "<div>\n",
       "<style scoped>\n",
       "    .dataframe tbody tr th:only-of-type {\n",
       "        vertical-align: middle;\n",
       "    }\n",
       "\n",
       "    .dataframe tbody tr th {\n",
       "        vertical-align: top;\n",
       "    }\n",
       "\n",
       "    .dataframe thead th {\n",
       "        text-align: right;\n",
       "    }\n",
       "</style>\n",
       "<table border=\"1\" class=\"dataframe\">\n",
       "  <thead>\n",
       "    <tr style=\"text-align: right;\">\n",
       "      <th></th>\n",
       "      <th>Life expectancy</th>\n",
       "      <th>BMI</th>\n",
       "    </tr>\n",
       "  </thead>\n",
       "  <tbody>\n",
       "    <tr>\n",
       "      <th>count</th>\n",
       "      <td>163.000000</td>\n",
       "      <td>163.000000</td>\n",
       "    </tr>\n",
       "    <tr>\n",
       "      <th>mean</th>\n",
       "      <td>69.666933</td>\n",
       "      <td>24.792378</td>\n",
       "    </tr>\n",
       "    <tr>\n",
       "      <th>std</th>\n",
       "      <td>8.981933</td>\n",
       "      <td>2.427900</td>\n",
       "    </tr>\n",
       "    <tr>\n",
       "      <th>min</th>\n",
       "      <td>44.500000</td>\n",
       "      <td>19.866920</td>\n",
       "    </tr>\n",
       "    <tr>\n",
       "      <th>25%</th>\n",
       "      <td>63.450000</td>\n",
       "      <td>22.527940</td>\n",
       "    </tr>\n",
       "    <tr>\n",
       "      <th>50%</th>\n",
       "      <td>71.800000</td>\n",
       "      <td>25.320540</td>\n",
       "    </tr>\n",
       "    <tr>\n",
       "      <th>75%</th>\n",
       "      <td>76.500000</td>\n",
       "      <td>26.603960</td>\n",
       "    </tr>\n",
       "    <tr>\n",
       "      <th>max</th>\n",
       "      <td>84.600000</td>\n",
       "      <td>30.995630</td>\n",
       "    </tr>\n",
       "  </tbody>\n",
       "</table>\n",
       "</div>"
      ],
      "text/plain": [
       "       Life expectancy         BMI\n",
       "count       163.000000  163.000000\n",
       "mean         69.666933   24.792378\n",
       "std           8.981933    2.427900\n",
       "min          44.500000   19.866920\n",
       "25%          63.450000   22.527940\n",
       "50%          71.800000   25.320540\n",
       "75%          76.500000   26.603960\n",
       "max          84.600000   30.995630"
      ]
     },
     "execution_count": 8,
     "metadata": {},
     "output_type": "execute_result"
    }
   ],
   "source": [
    "bmi_life_data.describe()"
   ]
  },
  {
   "cell_type": "code",
   "execution_count": 9,
   "id": "b107fba5",
   "metadata": {},
   "outputs": [
    {
     "data": {
      "text/plain": [
       "LinearRegression()"
      ]
     },
     "execution_count": 9,
     "metadata": {},
     "output_type": "execute_result"
    }
   ],
   "source": [
    "# Make and fit the linear regression model\n",
    "\n",
    "bmi_life_model = LinearRegression()\n",
    "bmi_life_model.fit(X, y)"
   ]
  },
  {
   "cell_type": "code",
   "execution_count": 10,
   "id": "3c4195c9",
   "metadata": {},
   "outputs": [
    {
     "data": {
      "text/plain": [
       "(1, 1)"
      ]
     },
     "execution_count": 10,
     "metadata": {},
     "output_type": "execute_result"
    }
   ],
   "source": [
    "y_pred = np.array(21.07931).reshape(-1,1)\n",
    "y_pred.shape"
   ]
  },
  {
   "cell_type": "code",
   "execution_count": 11,
   "id": "edaade0d",
   "metadata": {},
   "outputs": [
    {
     "data": {
      "text/plain": [
       "array([[60.31564716]])"
      ]
     },
     "execution_count": 11,
     "metadata": {},
     "output_type": "execute_result"
    }
   ],
   "source": [
    "# Mak a prediction using the model and  Predict life expectancy for a BMI value of 21.07931\n",
    "\n",
    "laos_life_exp = bmi_life_model.predict(y_pred)\n",
    "laos_life_exp"
   ]
  },
  {
   "cell_type": "markdown",
   "id": "32bb3084",
   "metadata": {},
   "source": [
    "## Lesson 2.20 Multiple Linear Regression\n",
    "\n",
    "### N-dimensions\n",
    "We have $ n -1 $ columns in the input and one in the output. For example, the inputs are size, school quality, number of rooms, et cetera. So for our input, we have  $ n -1 $ variable names: $ x_1, x_2 $ up to $ x_{n-1} $ and for the output of the prediction, we only have one variable $\\hat{y} $. Our prediction would be an $n-1$ dimensional hyperplane living in n dimensions. Since it's hard to picture n-dimensions, think of a linear equation in n variables, such as\n",
    "\n",
    "$ \\hat{y} = w_1x_1 + w_2x_2 + ... + w_{n-1}x_{n-1} + w_n $\n",
    "\n",
    "In order to find the weights $w_1$ up to $w_2 $, the algorithm is exactly the same as it is for two variables. We can either do the absolute or square root tricks, or we can calculate the mean absolute or square errors, and minimize using gradient descent.\n",
    "\n",
    "<img src=\"asset/Multiple Regresion.png\" width=\"450\" height=\"450\" alt=\"Multiple Regresion \" />\n",
    "\n",
    "\n",
    "\n",
    "### Multiple Linear Regression Quiz\n",
    "\n",
    "In this quiz, we'll be using the Boston house-prices dataset. The dataset consists of 13 features of 506 houses and the median home value in $1000's. We'll fit a model on the 13 features to predict the value of the houses."
   ]
  },
  {
   "cell_type": "code",
   "execution_count": 12,
   "id": "915861bc",
   "metadata": {},
   "outputs": [],
   "source": [
    "from sklearn.linear_model import LinearRegression\n",
    "from sklearn.datasets import load_boston"
   ]
  },
  {
   "cell_type": "code",
   "execution_count": 13,
   "id": "43df87bc",
   "metadata": {},
   "outputs": [],
   "source": [
    "# Load the data from the boston house-prices dataset \n",
    "\n",
    "boston_data = load_boston()\n",
    "\n",
    "x = boston_data['data']\n",
    "y = boston_data['target']"
   ]
  },
  {
   "cell_type": "code",
   "execution_count": 14,
   "id": "46bc63f3",
   "metadata": {},
   "outputs": [
    {
     "data": {
      "text/plain": [
       "LinearRegression()"
      ]
     },
     "execution_count": 14,
     "metadata": {},
     "output_type": "execute_result"
    }
   ],
   "source": [
    "# Make and fit the linear regression model\n",
    "# Fit the model and assign it to the model variable\n",
    "\n",
    "model = LinearRegression()\n",
    "model.fit(x, y)"
   ]
  },
  {
   "cell_type": "code",
   "execution_count": 15,
   "id": "02be4a97",
   "metadata": {},
   "outputs": [
    {
     "data": {
      "text/plain": [
       "array([23.68284712])"
      ]
     },
     "execution_count": 15,
     "metadata": {},
     "output_type": "execute_result"
    }
   ],
   "source": [
    "# Make a prediction using the model\n",
    "sample_house = [[2.29690000e-01, 0.00000000e+00, 1.05900000e+01, 0.00000000e+00, 4.89000000e-01,\n",
    "                6.32600000e+00, 5.25000000e+01, 4.35490000e+00, 4.00000000e+00, 2.77000000e+02,\n",
    "                1.86000000e+01, 3.94870000e+02, 1.09700000e+01]]\n",
    "\n",
    "# Predict housing price for the sample_house\n",
    "prediction = model.predict(sample_house)\n",
    "prediction"
   ]
  },
  {
   "cell_type": "markdown",
   "id": "50928662",
   "metadata": {},
   "source": [
    "## Lesson2.25 Polynomial Regression"
   ]
  },
  {
   "cell_type": "code",
   "execution_count": 16,
   "id": "e8671421",
   "metadata": {},
   "outputs": [],
   "source": [
    "import numpy as np\n",
    "import pandas as pd\n",
    "\n",
    "from sklearn.linear_model import LinearRegression\n",
    "from sklearn.preprocessing import PolynomialFeatures"
   ]
  },
  {
   "cell_type": "code",
   "execution_count": 17,
   "id": "15edc3d6",
   "metadata": {},
   "outputs": [],
   "source": [
    "train_data = pd.read_csv('datasets/polynomial .csv')"
   ]
  },
  {
   "cell_type": "code",
   "execution_count": 18,
   "id": "9fb552c1",
   "metadata": {},
   "outputs": [],
   "source": [
    "X = train_data['Var_X'].values.reshape(-1, 1)\n",
    "\n",
    "y = train_data['Var_Y'].values"
   ]
  },
  {
   "cell_type": "code",
   "execution_count": 19,
   "id": "e4e4c8f4",
   "metadata": {},
   "outputs": [],
   "source": [
    "# Create a PolynomialFeatures object, then fit and transform the predictor feature\n",
    "\n",
    "poly_feat = PolynomialFeatures(degree = 4)\n",
    "\n",
    "X_poly = poly_feat.fit_transform(X)"
   ]
  },
  {
   "cell_type": "code",
   "execution_count": 20,
   "id": "11e114dc",
   "metadata": {},
   "outputs": [
    {
     "name": "stdout",
     "output_type": "stream",
     "text": [
      "Coefficients: [ 3.37563501 -6.28126025 -2.3787942   0.55307182  0.22699807]\n",
      "Intercept: 0.0\n"
     ]
    }
   ],
   "source": [
    "# Make and fit the polynomial regression model\n",
    "# Create a LinearRegression object and fit it to the polynomial predictor\n",
    "# features\n",
    "poly_model = LinearRegression(fit_intercept = False).fit(X_poly, y)\n",
    "\n",
    "print(f\"Coefficients: {poly_model.coef_}\")\n",
    "print(f\"Intercept: {poly_model.intercept_}\")"
   ]
  },
  {
   "cell_type": "markdown",
   "id": "8a11d96f",
   "metadata": {},
   "source": [
    "## Lesson 2.27 Regularization\n",
    "\n",
    "<img src=\"asset/RegError.png\" width=\"800\" height=\"450\" alt=\" \" />\n",
    "\n",
    "Let's look at some data and two models that classify this data.\n",
    "\n",
    "- The first is a line\n",
    "- The second is a higher degree polynomial curve.\n",
    "\n",
    "#### Which one is better?\n",
    "\n",
    "They both have pros and cons.\n",
    "\n",
    "- The line makes a couple of mistakes.\n",
    "- The curve makes zero mistakes but is a bit more complicated.\n",
    "\n",
    "If we look at the equation of the line, it's much simpler than the polynomial equation. In particular, there are fewer coefficients, only three, four, five whereas the complex polynomial has many more.\n",
    "\n",
    "<img src=\"asset/RegComError.png\" width=\"800\" height=\"450\" alt=\" \" />\n",
    "\n",
    "If we add the coefficients of the line to its error, we get a slightly larger error. But what if we take all of the coefficients of the polynomial and add them to the error, we get a huge error. We can see that the modeling of the line is better because it has a smaller combined error. A simpler model has an edge over a complicated model."
   ]
  },
  {
   "cell_type": "markdown",
   "id": "d2ae6cee",
   "metadata": {},
   "source": [
    "### L1 regularization\n",
    "**L1 regularization** takes the absolute value of the coefficients of the model and adds them to the error.\n",
    "<img src=\"asset/RegL1.png\" width=\"800\" height=\"450\" alt=\" \" />\n",
    "\n",
    "### L2 regularization\n",
    "**L2 regularization** is similar to L1 Regularization however instead of adding the absolute values, we add the squares of the coefficients.\n",
    "<img src=\"asset/RegL2.png\" width=\"800\" height=\"450\" alt=\" \" />\n",
    "\n",
    "### The lambda $(λ)$ Parameter\n",
    "Using $λ$, we multiply the error that comes from the complexity of the model to adjust the overall error.\n",
    "\n",
    "- With a small lambda, the error that comes from the complexity of the model is not large enough to overtake the errors in the simplified model misclassifying points, so we will choose the complex model.\n",
    "- With a large value for lambda, we're multiplying the complexity part of the error by a lot. This punishes the complex model more so the simple model wins.\n",
    "\n",
    "<img src=\"asset/RegLambda.png\" width=\"800\" height=\"450\" alt=\" \" />\n",
    "\n",
    "If we have a large lambda then we're punishing complexity by a large amount and we're picking a simpler model. Whereas if we have a small lambda, we're punishing complexity by a small amount, so we're okay with having more complex models."
   ]
  },
  {
   "cell_type": "markdown",
   "id": "b3a9a8e7",
   "metadata": {},
   "source": [
    "### L1 or L2 regularization?\n",
    "So here's a cheat sheet with some benefits for each one.\n",
    "\n",
    "#### Efficiency\n",
    "- *(con)* **L1 regularization** is actually computationally inefficient even though it seems simpler because it has no squares, but actually, those absolute values are hard to differentiate.\n",
    "\n",
    "- *(pro)* Whereas, **L2 regularization** squares have very nice derivatives. So, these are easy to deal with computation.\n",
    "\n",
    "#### Spare data\n",
    "- *(pro)* **L1 regularization** is faster than **L2 regularization**. If you have a thousand columns of data but only 10 are relevant and the rest are mostly zeros, then **L1** is faster,\n",
    "\n",
    "- *(pro)* **L2** is better for non-sparse outputs which are when the data is more equally distributed among the columns.\n",
    "\n",
    "#### Feature selection\n",
    "- *(pro)* **L1** has one huge benefit which is that it gives us feature selection. So let's say, we have again, data in a thousand columns but really only 10 of the matters, and the rest are mostly noise. So, **L1** will detect this and will make the relevant columns into zeroes.\n",
    "\n",
    "- *(con)* **L2** on the other hand won't do this and it just takes the columns and treat them similarly.\n",
    "\n"
   ]
  },
  {
   "cell_type": "code",
   "execution_count": 21,
   "id": "228217ee",
   "metadata": {},
   "outputs": [],
   "source": [
    "import numpy as np\n",
    "import pandas as pd\n",
    "from sklearn.linear_model import Lasso"
   ]
  },
  {
   "cell_type": "code",
   "execution_count": 22,
   "id": "0b9431e3",
   "metadata": {},
   "outputs": [],
   "source": [
    "train_data = pd.read_csv('datasets/regularization_data.csv', header = None)\n",
    "\n",
    "X = train_data.iloc[:,:-1]\n",
    "y = train_data.iloc[:,-1]"
   ]
  },
  {
   "cell_type": "code",
   "execution_count": 23,
   "id": "4f771a03",
   "metadata": {},
   "outputs": [
    {
     "data": {
      "text/plain": [
       "Lasso()"
      ]
     },
     "execution_count": 23,
     "metadata": {},
     "output_type": "execute_result"
    }
   ],
   "source": [
    "# Create the linear regression model with lasso regularization.\n",
    "lasso_reg = Lasso()\n",
    "\n",
    "# Fit the model.\n",
    "lasso_reg.fit(X, y)"
   ]
  },
  {
   "cell_type": "code",
   "execution_count": 24,
   "id": "bc4569ea",
   "metadata": {},
   "outputs": [
    {
     "name": "stdout",
     "output_type": "stream",
     "text": [
      "[ 0.          2.35793224  2.00441646 -0.05511954 -3.92808318  0.        ]\n"
     ]
    }
   ],
   "source": [
    "#  Retrieve and print out the coefficients from the regression model.\n",
    "reg_coef = lasso_reg.coef_\n",
    "\n",
    "print(reg_coef)"
   ]
  },
  {
   "cell_type": "markdown",
   "id": "5a22a9d2",
   "metadata": {},
   "source": [
    "## Lesson 2.28 Feature Scaling\n",
    "\n",
    "\n",
    "What is feature scaling? <br> \n",
    "Feature scaling is a way of transforming your data into a common range of values. There are two common scalings:\n",
    "- Standardizing <br>\n",
    "\n",
    "`df[\"height_standard\"] = (df[\"height\"] - df[\"height\"].mean()) / df[\"height\"].std()`\n",
    "\n",
    "- Normalizing\n",
    "\n",
    "`df[\"height_normal\"] = (df[\"height\"] - df[\"height\"].min()) / df[\"height\"].max() - df['height'].min()) `\n",
    "\n",
    "\n",
    "[A useful Quora post on the importance of feature scaling when using regularization.](https://www.quora.com/Why-do-we-normalize-the-data)"
   ]
  },
  {
   "cell_type": "code",
   "execution_count": 25,
   "id": "4b9cfa7e",
   "metadata": {},
   "outputs": [],
   "source": [
    "import numpy as np\n",
    "import pandas as pd\n",
    "\n",
    "from sklearn.linear_model import Lasso\n",
    "from sklearn.preprocessing import StandardScaler"
   ]
  },
  {
   "cell_type": "code",
   "execution_count": 26,
   "id": "2a1fd3eb",
   "metadata": {},
   "outputs": [],
   "source": [
    "train_data = pd.read_csv('datasets/regularization_data.csv', header = None)\n",
    "\n",
    "X = train_data.iloc[:,:-1]\n",
    "y = train_data.iloc[:,-1]"
   ]
  },
  {
   "cell_type": "code",
   "execution_count": 27,
   "id": "473f79cc",
   "metadata": {},
   "outputs": [],
   "source": [
    "# Create the standardization scaling object.\n",
    "scaler = StandardScaler()\n",
    "\n",
    "# Fit the standardization parameters and scale the data.\n",
    "X_scaled = scaler.fit_transform(X)"
   ]
  },
  {
   "cell_type": "code",
   "execution_count": 28,
   "id": "0cebd724",
   "metadata": {},
   "outputs": [
    {
     "name": "stdout",
     "output_type": "stream",
     "text": [
      "[  0.           3.90753617   9.02575748  -0.         -11.78303187\n",
      "   0.45340137]\n"
     ]
    }
   ],
   "source": [
    "# Create the linear regression model with lasso regularization.\n",
    "lasso_reg = Lasso()\n",
    "\n",
    "# Fit the model.\n",
    "lasso_reg.fit(X_scaled, y)\n",
    "\n",
    "# Retrieve and print out the coefficients from the regression model.\n",
    "reg_coef = lasso_reg.coef_\n",
    "print(reg_coef)"
   ]
  }
 ],
 "metadata": {
  "kernelspec": {
   "display_name": "Python 3 (ipykernel)",
   "language": "python",
   "name": "python3"
  },
  "language_info": {
   "codemirror_mode": {
    "name": "ipython",
    "version": 3
   },
   "file_extension": ".py",
   "mimetype": "text/x-python",
   "name": "python",
   "nbconvert_exporter": "python",
   "pygments_lexer": "ipython3",
   "version": "3.9.7"
  }
 },
 "nbformat": 4,
 "nbformat_minor": 5
}
